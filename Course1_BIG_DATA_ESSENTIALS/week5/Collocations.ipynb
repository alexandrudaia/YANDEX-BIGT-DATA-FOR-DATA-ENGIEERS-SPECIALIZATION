{
 "cells": [
  {
   "cell_type": "code",
   "execution_count": 1,
   "metadata": {},
   "outputs": [],
   "source": [
    "from __future__ import division\n",
    "from pyspark import SparkConf, SparkContext\n",
    "from operator import add\n",
    "import re"
   ]
  },
  {
   "cell_type": "code",
   "execution_count": 2,
   "metadata": {},
   "outputs": [],
   "source": [
    "sc = SparkContext(conf=SparkConf().setAppName(\"Spark assignment collocations\").setMaster(\"local\"))"
   ]
  },
  {
   "cell_type": "code",
   "execution_count": 3,
   "metadata": {},
   "outputs": [],
   "source": [
    "path_to_file='/datasets/stop_words_en.txt'\n",
    "\n",
    "with open(path_to_file) as stop_words_file:\n",
    "    content = stop_words_file.readlines()\n",
    "    stop_words = set(l.strip().lower() for l in content)\n"
   ]
  },
  {
   "cell_type": "code",
   "execution_count": 5,
   "metadata": {},
   "outputs": [],
   "source": [
    " def parse_article(line):\n",
    "    try:\n",
    "        article_id, text = unicode(line.rstrip()).split('\\t', 1)\n",
    "        text = re.sub(\"^\\W+|\\W+$\", \"\", text, flags=re.UNICODE)\n",
    "        words = re.split(\"\\W*\\s+\\W*\", text, flags=re.UNICODE)\n",
    "        return [w.lower() for w in words if w.lower() not in stop_words]# if w.lower() not in stop_words\n",
    "    except ValueError as e:\n",
    "        return []\n"
   ]
  },
  {
   "cell_type": "code",
   "execution_count": 6,
   "metadata": {},
   "outputs": [],
   "source": [
    "wiki = sc.textFile(\"/data/wiki/en_articles_part/articles-part\", 16) \\\n",
    "                  .flatMap(parse_article) \\\n",
    "                  .map(lambda x: (x, 1)) \\\n",
    "                  .reduceByKey(add)\n"
   ]
  },
  {
   "cell_type": "code",
   "execution_count": 10,
   "metadata": {},
   "outputs": [],
   "source": [
    "\n",
    "\n",
    "words_count = wiki.collectAsMap()\n",
    "total_words = sum(words_count.values())\n",
    "\n"
   ]
  },
  {
   "cell_type": "code",
   "execution_count": 12,
   "metadata": {},
   "outputs": [],
   "source": [
    "def get_pairs(line):\n",
    "    try:\n",
    "        article_id, text = unicode(line.rstrip()).split('\\t', 1)\n",
    "        text = re.sub(\"^\\W+|\\W+$\", \"\", text, flags=re.UNICODE)\n",
    "        words = re.split(\"\\W*\\s+\\W*\", text, flags=re.UNICODE)\n",
    "        words = [w.lower() for w in words if w.lower() not in stop_words]\n",
    "        \n",
    "        result = []\n",
    "        for idx, w in enumerate(words):\n",
    "            if idx + 1 != len(words):\n",
    "                result.append(w + '_' + words[idx+1].lower())\n",
    "              \n",
    "        return result\n",
    "    except ValueError as e:\n",
    "        return []\n"
   ]
  },
  {
   "cell_type": "code",
   "execution_count": 13,
   "metadata": {},
   "outputs": [],
   "source": [
    "pairs = sc.textFile(\"/data/wiki/en_articles_part/articles-part\", 16) \\\n",
    "                .flatMap(get_pairs) \\\n",
    "                .cache()"
   ]
  },
  {
   "cell_type": "code",
   "execution_count": 17,
   "metadata": {},
   "outputs": [],
   "source": [
    "total_collocations = pairs.count()"
   ]
  },
  {
   "cell_type": "code",
   "execution_count": 18,
   "metadata": {},
   "outputs": [],
   "source": [
    "def pmi(pair):\n",
    "    left, right = unicode(pair[0]).split('_', 1)\n",
    "    p_left = words_count[left] / total_words\n",
    "    p_right = words_count[right] / total_words\n",
    "    p_pair =  pair[1] / total_collocations\n",
    "    result = p_pair / (p_left * p_right)\n",
    "    return (pair[0], result)\n"
   ]
  },
  {
   "cell_type": "code",
   "execution_count": 19,
   "metadata": {},
   "outputs": [],
   "source": [
    "top_39 = pairs.map(lambda x: (x, 1)) \\\n",
    "                .reduceByKey(add) \\\n",
    "                .filter(lambda x: x[1] > 499) \\\n",
    "                .map(pmi) \\\n",
    "                .sortBy(lambda x: x[1], ascending=False) \\\n",
    "                .take(39)\n"
   ]
  },
  {
   "cell_type": "code",
   "execution_count": 20,
   "metadata": {},
   "outputs": [
    {
     "name": "stdout",
     "output_type": "stream",
     "text": [
      "los_angeles\n",
      "san_francisco\n",
      "prime_minister\n",
      "et_al\n",
      "external_links\n",
      "supreme_court\n",
      "soviet_union\n",
      "20th_century\n",
      "19th_century\n",
      "roman_catholic\n",
      "references_reading\n",
      "baseball_player\n",
      "references_external\n",
      "award_best\n",
      "notes_references\n",
      "air_force\n",
      "united_states\n",
      "catholic_church\n",
      "new_zealand\n",
      "north_america\n",
      "united_kingdom\n",
      "university_press\n",
      "new_york\n",
      "south_africa\n",
      "roman_empire\n",
      "took_place\n",
      "civil_war\n",
      "united_nations\n",
      "american_singer-songwriter\n",
      "war_ii\n",
      "high_school\n",
      "world_war\n",
      "american_actress\n",
      "american_actor\n",
      "american_baseball\n",
      "american_football\n",
      "york_city\n",
      "years_later\n",
      "north_american\n"
     ]
    }
   ],
   "source": [
    " for p in top_39:\n",
    "    print p[0]   "
   ]
  },
  {
   "cell_type": "code",
   "execution_count": null,
   "metadata": {},
   "outputs": [],
   "source": []
  }
 ],
 "metadata": {
  "kernelspec": {
   "display_name": "Python 2",
   "language": "python",
   "name": "python2"
  },
  "language_info": {
   "codemirror_mode": {
    "name": "ipython",
    "version": 2
   },
   "file_extension": ".py",
   "mimetype": "text/x-python",
   "name": "python",
   "nbconvert_exporter": "python",
   "pygments_lexer": "ipython2",
   "version": "2.7.12"
  }
 },
 "nbformat": 4,
 "nbformat_minor": 2
}
