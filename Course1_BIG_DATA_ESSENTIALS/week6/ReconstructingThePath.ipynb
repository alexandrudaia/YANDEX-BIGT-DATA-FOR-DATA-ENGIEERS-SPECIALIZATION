{
 "cells": [
  {
   "cell_type": "code",
   "execution_count": 1,
   "metadata": {},
   "outputs": [],
   "source": [
    "from __future__ import print_function\n",
    "from pyspark import SparkConf, SparkContext"
   ]
  },
  {
   "cell_type": "code",
   "execution_count": 2,
   "metadata": {},
   "outputs": [],
   "source": [
    "sc = SparkContext(conf=SparkConf().setAppName(\"reconstructing-the-path\").setMaster(\"local\"))"
   ]
  },
  {
   "cell_type": "code",
   "execution_count": 5,
   "metadata": {},
   "outputs": [],
   "source": [
    "def parse_edge(s):\n",
    "    user, follower = s.split(\"\\t\")\n",
    "    return (int(user), int(follower))\n",
    "\n",
    "def step(item):\n",
    "    curr, verts, flag, next_key = item[0], item[1][0][0], item[1][0][1], item[1][1]\n",
    "    flag = next_key == 34\n",
    "    verts = list(verts)\n",
    "    verts.append(curr)\n",
    "    if flag:\n",
    "        verts.append(next_key)\n",
    "    return (next_key, (verts, flag))"
   ]
  },
  {
   "cell_type": "code",
   "execution_count": 6,
   "metadata": {},
   "outputs": [
    {
     "name": "stdout",
     "output_type": "stream",
     "text": [
      "itteration 1, all count 4, count 0\n",
      "-------------------------------------------------------------------------------------------\n",
      "itteration 2, all count 4, count 0\n",
      "-------------------------------------------------------------------------------------------\n",
      "itteration 3, all count 15, count 0\n",
      "-------------------------------------------------------------------------------------------\n",
      "itteration 4, all count 31, count 0\n",
      "-------------------------------------------------------------------------------------------\n",
      "itteration 5, all count 89, count 0\n",
      "-------------------------------------------------------------------------------------------\n",
      "itteration 6, all count 201, count 0\n",
      "-------------------------------------------------------------------------------------------\n",
      "itteration 7, all count 518, count 0\n",
      "-------------------------------------------------------------------------------------------\n",
      "itteration 8, all count 1173, count 1\n",
      "-------------------------------------------------------------------------------------------\n"
     ]
    }
   ],
   "source": [
    "n = 10  # number of partitions\n",
    "edges = sc.textFile(\"/data/twitter/twitter_sample.txt\").map(parse_edge).map(lambda e: (e[1], e[0])).partitionBy(n).cache()\n",
    "x = 12\n",
    "distances = sc.parallelize([(x, (list(), False))]).partitionBy(n)\n",
    "\n",
    "ittr = 1\n",
    "\n",
    "while True:\n",
    "    candidates = distances.join(edges, n).map(step).persist()\n",
    "    count = candidates.filter(lambda r: r[1][1]).count()\n",
    "    \n",
    "    count_all = candidates.count()\n",
    "    \n",
    "    \n",
    "    print('itteration %d, all count %d, count %d' % (ittr, count_all, count))\n",
    "    print('-------------------------------------------------------------------------------------------')\n",
    "    \n",
    "    if count_all == 0:\n",
    "        break\n",
    "    \n",
    "    if count > 0:\n",
    "        break\n",
    "    else:\n",
    "        distances = candidates \n",
    "        ittr += 1\n"
   ]
  },
  {
   "cell_type": "code",
   "execution_count": 7,
   "metadata": {},
   "outputs": [],
   "source": [
    "tmp = candidates.filter(lambda r: r[1][1]).map(lambda r: (r[0], ','.join([str(i) for i in r[1][0]])))"
   ]
  },
  {
   "cell_type": "code",
   "execution_count": 8,
   "metadata": {},
   "outputs": [
    {
     "name": "stdout",
     "output_type": "stream",
     "text": [
      "12,422,53,52,107,20,23,274,34\n"
     ]
    }
   ],
   "source": [
    "\n",
    "\n",
    "for row in tmp.take(1): print(row[1])\n",
    "\n"
   ]
  },
  {
   "cell_type": "code",
   "execution_count": null,
   "metadata": {},
   "outputs": [],
   "source": []
  }
 ],
 "metadata": {
  "kernelspec": {
   "display_name": "Python 2",
   "language": "python",
   "name": "python2"
  },
  "language_info": {
   "codemirror_mode": {
    "name": "ipython",
    "version": 2
   },
   "file_extension": ".py",
   "mimetype": "text/x-python",
   "name": "python",
   "nbconvert_exporter": "python",
   "pygments_lexer": "ipython2",
   "version": "2.7.12"
  }
 },
 "nbformat": 4,
 "nbformat_minor": 2
}
