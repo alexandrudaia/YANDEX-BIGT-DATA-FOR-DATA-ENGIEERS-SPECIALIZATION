{
 "cells": [
  {
   "cell_type": "code",
   "execution_count": 1,
   "metadata": {},
   "outputs": [
    {
     "name": "stdout",
     "output_type": "stream",
     "text": [
      "Writing mapper.py\n"
     ]
    }
   ],
   "source": [
    "%%writefile mapper.py\n",
    "\n",
    "import sys\n",
    "import re\n",
    "\n",
    "from collections import Counter\n",
    "\n",
    "reload(sys)\n",
    "sys.setdefaultencoding('utf-8')\n",
    "\n",
    "path_to_file='stop_words_en.txt'\n",
    "# path_to_file='/datasets/stop_words_en.txt'\n",
    "\n",
    "with open(path_to_file) as stop_words_file:\n",
    "    content = stop_words_file.readlines()\n",
    "    stop_words = set(l.strip().lower() for l in content)\n",
    "\n",
    "for line in sys.stdin:\n",
    "    try:\n",
    "        article_id, text = unicode(line.strip()).split('\\t', 1)\n",
    "    except ValueError as e:\n",
    "        continue\n",
    "    words = [w.lower() for w in re.split(\"\\W*\\s+\\W*\", text, flags=re.UNICODE) if w.lower() not in stop_words]\n",
    "    all_wards = float(len(words))\n",
    "    counters = Counter(words)\n",
    "        \n",
    "    tf = {w: counters[w] / all_wards for w in counters}\n",
    "    \n",
    "    for word in tf:\n",
    "        print \"%s\\t%0.5f\\t%s\" % (word.lower(), tf[word], article_id)"
   ]
  },
  {
   "cell_type": "code",
   "execution_count": 2,
   "metadata": {},
   "outputs": [
    {
     "name": "stdout",
     "output_type": "stream",
     "text": [
      "Writing reducer.py\n"
     ]
    }
   ],
   "source": [
    "%%writefile reducer.py\n",
    "\n",
    "import sys\n",
    "\n",
    "from math import log\n",
    "\n",
    "current_key = None\n",
    "all_documents = 0\n",
    "current_tf = 0.\n",
    "\n",
    "for line in sys.stdin:\n",
    "    try:\n",
    "        key, tf, article_id = line.strip().split('\\t', 2)\n",
    "        article_id = int(article_id)\n",
    "    except ValueError as e:\n",
    "        continue\n",
    "        \n",
    "    if key == 'labor':\n",
    "        all_documents += 1\n",
    "        \n",
    "    if article_id == 12:\n",
    "        current_tf = float(tf)\n",
    "        \n",
    "    if current_key != key:\n",
    "        if current_key == 'labor':\n",
    "            idf = 1. / log(1. + all_documents)\n",
    "            print \"%0.10f\" % (current_tf * idf)\n",
    "            \n",
    "        current_key = key\n",
    "        all_documents = 0\n",
    "        current_tf = 0\n",
    "\n",
    "if current_key and current_key == 'labor':\n",
    "    idf = 1. / log(1 + all_documents)\n",
    "    print \"%0.10f\" % (current_tf * idf)\n"
   ]
  },
  {
   "cell_type": "code",
   "execution_count": 3,
   "metadata": {},
   "outputs": [
    {
     "name": "stdout",
     "output_type": "stream",
     "text": [
      "0.0003509630\t\n"
     ]
    },
    {
     "name": "stderr",
     "output_type": "stream",
     "text": [
      "rm: `stop_words_result': No such file or directory\n",
      "18/02/03 09:30:26 INFO client.RMProxy: Connecting to ResourceManager at /0.0.0.0:8032\n",
      "18/02/03 09:30:26 INFO client.RMProxy: Connecting to ResourceManager at /0.0.0.0:8032\n",
      "18/02/03 09:30:28 INFO mapred.FileInputFormat: Total input files to process : 1\n",
      "18/02/03 09:30:29 INFO mapreduce.JobSubmitter: number of splits:2\n",
      "18/02/03 09:30:29 INFO mapreduce.JobSubmitter: Submitting tokens for job: job_1517597425666_0001\n",
      "18/02/03 09:30:29 INFO impl.YarnClientImpl: Submitted application application_1517597425666_0001\n",
      "18/02/03 09:30:30 INFO mapreduce.Job: The url to track the job: http://2b93fde4fee3:8088/proxy/application_1517597425666_0001/\n",
      "18/02/03 09:30:30 INFO mapreduce.Job: Running job: job_1517597425666_0001\n",
      "18/02/03 09:30:36 INFO mapreduce.Job: Job job_1517597425666_0001 running in uber mode : false\n",
      "18/02/03 09:30:36 INFO mapreduce.Job:  map 0% reduce 0%\n",
      "18/02/03 09:30:52 INFO mapreduce.Job:  map 100% reduce 0%\n",
      "18/02/03 09:30:58 INFO mapreduce.Job:  map 100% reduce 20%\n",
      "18/02/03 09:30:59 INFO mapreduce.Job:  map 100% reduce 40%\n",
      "18/02/03 09:31:00 INFO mapreduce.Job:  map 100% reduce 60%\n",
      "18/02/03 09:31:01 INFO mapreduce.Job:  map 100% reduce 80%\n",
      "18/02/03 09:31:02 INFO mapreduce.Job:  map 100% reduce 100%\n",
      "18/02/03 09:31:02 INFO mapreduce.Job: Job job_1517597425666_0001 completed successfully\n",
      "18/02/03 09:31:02 INFO mapreduce.Job: Counters: 50\n",
      "\tFile System Counters\n",
      "\t\tFILE: Number of bytes read=80235375\n",
      "\t\tFILE: Number of bytes written=161450389\n",
      "\t\tFILE: Number of read operations=0\n",
      "\t\tFILE: Number of large read operations=0\n",
      "\t\tFILE: Number of write operations=0\n",
      "\t\tHDFS: Number of bytes read=76874501\n",
      "\t\tHDFS: Number of bytes written=14\n",
      "\t\tHDFS: Number of read operations=21\n",
      "\t\tHDFS: Number of large read operations=0\n",
      "\t\tHDFS: Number of write operations=10\n",
      "\tJob Counters \n",
      "\t\tKilled reduce tasks=1\n",
      "\t\tLaunched map tasks=2\n",
      "\t\tLaunched reduce tasks=5\n",
      "\t\tData-local map tasks=2\n",
      "\t\tTotal time spent by all maps in occupied slots (ms)=27723\n",
      "\t\tTotal time spent by all reduces in occupied slots (ms)=19925\n",
      "\t\tTotal time spent by all map tasks (ms)=27723\n",
      "\t\tTotal time spent by all reduce tasks (ms)=19925\n",
      "\t\tTotal vcore-milliseconds taken by all map tasks=27723\n",
      "\t\tTotal vcore-milliseconds taken by all reduce tasks=19925\n",
      "\t\tTotal megabyte-milliseconds taken by all map tasks=28388352\n",
      "\t\tTotal megabyte-milliseconds taken by all reduce tasks=20403200\n",
      "\tMap-Reduce Framework\n",
      "\t\tMap input records=4100\n",
      "\t\tMap output records=3472743\n",
      "\t\tMap output bytes=73289849\n",
      "\t\tMap output materialized bytes=80235405\n",
      "\t\tInput split bytes=228\n",
      "\t\tCombine input records=0\n",
      "\t\tCombine output records=0\n",
      "\t\tReduce input groups=426865\n",
      "\t\tReduce shuffle bytes=80235405\n",
      "\t\tReduce input records=3472743\n",
      "\t\tReduce output records=1\n",
      "\t\tSpilled Records=6945486\n",
      "\t\tShuffled Maps =10\n",
      "\t\tFailed Shuffles=0\n",
      "\t\tMerged Map outputs=10\n",
      "\t\tGC time elapsed (ms)=469\n",
      "\t\tCPU time spent (ms)=24030\n",
      "\t\tPhysical memory (bytes) snapshot=1658499072\n",
      "\t\tVirtual memory (bytes) snapshot=14133690368\n",
      "\t\tTotal committed heap usage (bytes)=1150287872\n",
      "\tShuffle Errors\n",
      "\t\tBAD_ID=0\n",
      "\t\tCONNECTION=0\n",
      "\t\tIO_ERROR=0\n",
      "\t\tWRONG_LENGTH=0\n",
      "\t\tWRONG_MAP=0\n",
      "\t\tWRONG_REDUCE=0\n",
      "\tFile Input Format Counters \n",
      "\t\tBytes Read=76874273\n",
      "\tFile Output Format Counters \n",
      "\t\tBytes Written=14\n",
      "18/02/03 09:31:02 INFO streaming.StreamJob: Output directory: stop_words_result\n"
     ]
    }
   ],
   "source": [
    "%%bash\n",
    "\n",
    "OUT_DIR=\"stop_words_result\"\n",
    "NUM_REDUCERS=5\n",
    "\n",
    "hdfs dfs -rm -r -skipTrash ${OUT_DIR} > /dev/null\n",
    "\n",
    "yarn jar /opt/cloudera/parcels/CDH/lib/hadoop-mapreduce/hadoop-streaming.jar \\\n",
    "    -D mapred.jab.name=\"Streaming stop words\" \\\n",
    "    -D mapreduce.job.reduces=${NUM_REDUCERS} \\\n",
    "    -files mapper.py,reducer.py,/datasets/stop_words_en.txt \\\n",
    "    -mapper \"python mapper.py\" \\\n",
    "    -reducer \"python reducer.py\" \\\n",
    "    -input /data/wiki/en_articles_part \\\n",
    "    -output ${OUT_DIR} > /dev/null\n",
    "\n",
    "hdfs dfs -cat ${OUT_DIR}/part-00004 | head\n"
   ]
  },
  {
   "cell_type": "code",
   "execution_count": null,
   "metadata": {},
   "outputs": [],
   "source": []
  }
 ],
 "metadata": {
  "kernelspec": {
   "display_name": "Python 2",
   "language": "python",
   "name": "python2"
  },
  "language_info": {
   "codemirror_mode": {
    "name": "ipython",
    "version": 2
   },
   "file_extension": ".py",
   "mimetype": "text/x-python",
   "name": "python",
   "nbconvert_exporter": "python",
   "pygments_lexer": "ipython2",
   "version": "2.7.12"
  }
 },
 "nbformat": 4,
 "nbformat_minor": 2
}
